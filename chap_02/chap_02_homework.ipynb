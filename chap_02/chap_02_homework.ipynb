{
 "cells": [
  {
   "cell_type": "code",
   "execution_count": 1,
   "metadata": {},
   "outputs": [],
   "source": [
    "# coding = 'utf-8'\n",
    "import numpy as np\n",
    "import pandas as pd\n",
    "import time\n",
    "import tm  #老师版本\n",
    "import target_encoding as te #优化版本"
   ]
  },
  {
   "cell_type": "code",
   "execution_count": 3,
   "metadata": {},
   "outputs": [
    {
     "name": "stdout",
     "output_type": "stream",
     "text": [
      "tm1: 39.545872\n",
      "tm2: 0.547039\n",
      "老师课堂演练版时间: 0.005960\n",
      "本次作业优化版时间: 0.002045\n",
      "0.0\n",
      "0.0\n",
      "0.0\n"
     ]
    }
   ],
   "source": [
    "def target_mean_v1(data, y_name, x_name):\n",
    "    result = np.zeros(data.shape[0])\n",
    "    for i in range(data.shape[0]):\n",
    "        groupby_result = data[data.index != i].groupby([x_name], as_index=False).agg(['mean', 'count'])\n",
    "        result[i] = groupby_result.loc[groupby_result.index == data.loc[i, x_name], (y_name, 'mean')]\n",
    "    return result\n",
    "\n",
    "\n",
    "def target_mean_v2(data, y_name, x_name):\n",
    "    result = np.zeros(data.shape[0])\n",
    "    value_dict = dict()\n",
    "    count_dict = dict()\n",
    "    for i in range(data.shape[0]):\n",
    "        if data.loc[i, x_name] not in value_dict.keys():\n",
    "            value_dict[data.loc[i, x_name]] = data.loc[i, y_name]\n",
    "            count_dict[data.loc[i, x_name]] = 1\n",
    "        else:\n",
    "            value_dict[data.loc[i, x_name]] += data.loc[i, y_name]\n",
    "            count_dict[data.loc[i, x_name]] += 1\n",
    "    for i in range(data.shape[0]):\n",
    "        result[i] = (value_dict[data.loc[i, x_name]] - data.loc[i, y_name]) / (count_dict[data.loc[i, x_name]] - 1)\n",
    "    return result\n",
    "\n",
    "\n",
    "def main():\n",
    "    y = np.random.randint(2, size=(5000, 1))\n",
    "    x = np.random.randint(10, size=(5000, 1))\n",
    "    data = pd.DataFrame(np.concatenate([y, x], axis=1), columns=['y', 'x'])\n",
    "\n",
    "    #v1\n",
    "    start_v1 = time.time()\n",
    "    result_1 = target_mean_v1(data, 'y', 'x')\n",
    "    end_v1 = time.time()\n",
    "    tm_diff = end_v1-start_v1\n",
    "    print(\"tm1: %f\" % tm_diff)\n",
    "\n",
    "    #v2\n",
    "    start_v2 = time.time()\n",
    "    result_2 = target_mean_v2(data, 'y', 'x')\n",
    "    end_v2 = time.time()\n",
    "    tm_diff = end_v2 - start_v2\n",
    "    print(\"tm2: %f\" % tm_diff)\n",
    "\n",
    "    #v3：老师课堂演练版\n",
    "    start_v3 = time.time()\n",
    "    result_3 = tm.target_mean_v3(data, 'y', 'x')\n",
    "    end_v3 = time.time()\n",
    "    tm_diff = end_v3 - start_v3\n",
    "    print(\"老师课堂演练版时间: %f\" % tm_diff)\n",
    "\n",
    "    #v4：本次作业优化版\n",
    "    start_v4 = time.time()\n",
    "    result_4 = te.target_mean_v3(data, 'y', 'x')\n",
    "    end_v4 = time.time()\n",
    "    tm_diff = end_v4 - start_v4\n",
    "    print(\"本次作业优化版时间: %f\" % tm_diff)\n",
    "    \n",
    "    #v1与v2的结果是否有差别\n",
    "    diff = np.linalg.norm(result_1 - result_2)\n",
    "    print(diff)\n",
    "\n",
    "    #v2与v3的结果是否有差别\n",
    "    diff = np.linalg.norm(result_2 - result_3)\n",
    "    print(diff)\n",
    "\n",
    "    #v3与v4的结果是否有差别\n",
    "    diff = np.linalg.norm(result_3 - result_4)\n",
    "    print(diff)\n",
    "\n",
    "if __name__ == '__main__':\n",
    "    main()\n"
   ]
  },
  {
   "cell_type": "code",
   "execution_count": null,
   "metadata": {},
   "outputs": [],
   "source": []
  }
 ],
 "metadata": {
  "kernelspec": {
   "display_name": "Python 3",
   "language": "python",
   "name": "python3"
  },
  "language_info": {
   "codemirror_mode": {
    "name": "ipython",
    "version": 3
   },
   "file_extension": ".py",
   "mimetype": "text/x-python",
   "name": "python",
   "nbconvert_exporter": "python",
   "pygments_lexer": "ipython3",
   "version": "3.8.5"
  }
 },
 "nbformat": 4,
 "nbformat_minor": 4
}
